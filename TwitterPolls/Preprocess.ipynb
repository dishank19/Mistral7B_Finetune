{
  "cells": [
    {
      "cell_type": "code",
      "execution_count": 1,
      "metadata": {
        "id": "BkXyoTboeQfT"
      },
      "outputs": [],
      "source": [
        "import json\n",
        "import pandas as pd\n",
        "import re"
      ]
    },
    {
      "cell_type": "code",
      "execution_count": 2,
      "metadata": {
        "id": "-MdQy2k6FhU_"
      },
      "outputs": [],
      "source": [
        "file_path = 'datasets/decahose_polls_2021-08.txt'"
      ]
    },
    {
      "cell_type": "code",
      "execution_count": 3,
      "metadata": {
        "id": "i-nBmUftcjov"
      },
      "outputs": [],
      "source": [
        "data = []"
      ]
    },
    {
      "cell_type": "code",
      "execution_count": 4,
      "metadata": {
        "id": "HdAq_W3vcoce"
      },
      "outputs": [],
      "source": [
        "with open(file_path, 'r') as file:\n",
        "    for line in file:\n",
        "        # Parse each line as a JSON object\n",
        "        tweet = json.loads(line)\n",
        "\n",
        "        # Extract relevant information\n",
        "        tweet_data = {\n",
        "            'text': tweet.get('text', ''),\n",
        "            'user_name': tweet['user']['name'] if 'user' in tweet else '',\n",
        "            'user_screen_name': tweet['user']['screen_name'] if 'user' in tweet else '',\n",
        "            'user_location': tweet['user'].get('location', ''),\n",
        "            'user_followers_count': tweet['user'].get('followers_count', 0),\n",
        "            'retweet_count': tweet.get('retweet_count', 0),\n",
        "            'favorite_count': tweet.get('favorite_count', 0),\n",
        "            'is_retweet': 'retweeted_status' in tweet,\n",
        "            'tweet_language': tweet.get('lang', ''),\n",
        "            'created_at': tweet.get('created_at', ''),\n",
        "            'tweet_source': tweet.get('source', ''),\n",
        "            'in_reply_to_status_id': tweet.get('in_reply_to_status_id', None),\n",
        "            'in_reply_to_user_id': tweet.get('in_reply_to_user_id', None),\n",
        "            'in_reply_to_screen_name': tweet.get('in_reply_to_screen_name', None),\n",
        "            'hashtags': [hashtag['text'] for hashtag in tweet['entities']['hashtags']] if 'entities' in tweet and 'hashtags' in tweet['entities'] else [],\n",
        "            'user_mentions': [mention['screen_name'] for mention in tweet['entities']['user_mentions']] if 'entities' in tweet and 'user_mentions' in tweet['entities'] else [],\n",
        "            'place': tweet.get('place', {}).get('full_name', '') if tweet.get('place') else '',\n",
        "            'polls': [poll['options'] for poll in tweet['entities']['polls']] if 'entities' in tweet and 'polls' in tweet['entities'] else [],\n",
        "            'is_extended_tweet': 'extended_tweet' in tweet,\n",
        "            'extended_tweet_full_text': tweet['extended_tweet']['full_text'] if 'extended_tweet' in tweet else '',\n",
        "        }\n",
        "\n",
        "        # Append the extracted data to the list\n",
        "        data.append(tweet_data)"
      ]
    },
    {
      "cell_type": "code",
      "execution_count": 6,
      "metadata": {
        "colab": {
          "base_uri": "https://localhost:8080/"
        },
        "id": "nMlp2VqhdMTY",
        "outputId": "e0d71c9a-26f1-4a4d-8581-e6686798c410"
      },
      "outputs": [
        {
          "name": "stdout",
          "output_type": "stream",
          "text": [
            "                                                text  \\\n",
            "0  RT @CaesarsSports: Thursday Dingers is coming ...   \n",
            "1  RT @Openly: Should sports bodies allow interse...   \n",
            "2                       RT @TheSkyBlueHub: Defenders   \n",
            "3  RT @kooky__official: 1등 케이팝 최고의 아기펭귄에게는 🐧kooky...   \n",
            "4                                       @iGOLDWING94   \n",
            "\n",
            "                                       user_name user_screen_name  \\\n",
            "0                                     CoachPicks    TheCoachPicks   \n",
            "1                       Lord Rev Col: Igneous Mo       touristcol   \n",
            "2  The ßky Blue Hub (everything & anything CCFC)    TheSkyBlueHub   \n",
            "3                               abeyours 🐰 D-193         huniehoe   \n",
            "4                                  anto lvs melu          iTBSD91   \n",
            "\n",
            "           user_location  user_followers_count  retweet_count  favorite_count  \\\n",
            "0                   None                  1147              0               0   \n",
            "1  Northampton or Malawi                   444              0               0   \n",
            "2      Coventry, England                  2393              0               0   \n",
            "3         cotton's heart                  1468              0               0   \n",
            "4                she¡her                  2169              0               0   \n",
            "\n",
            "   is_retweet tweet_language                      created_at  \\\n",
            "0        True             en  Tue Aug 03 22:13:58 +0000 2021   \n",
            "1        True             en  Tue Aug 03 22:14:09 +0000 2021   \n",
            "2        True             en  Tue Aug 03 22:14:23 +0000 2021   \n",
            "3        True             ko  Tue Aug 03 22:14:26 +0000 2021   \n",
            "4       False            und  Tue Aug 03 22:14:35 +0000 2021   \n",
            "\n",
            "                                        tweet_source  in_reply_to_status_id  \\\n",
            "0  <a href=\"http://twitter.com/download/iphone\" r...                    NaN   \n",
            "1  <a href=\"http://twitter.com/download/android\" ...                    NaN   \n",
            "2  <a href=\"http://twitter.com/download/iphone\" r...                    NaN   \n",
            "3  <a href=\"http://twitter.com/download/android\" ...                    NaN   \n",
            "4  <a href=\"http://twitter.com/download/iphone\" r...           1.422682e+18   \n",
            "\n",
            "   in_reply_to_user_id in_reply_to_screen_name hashtags      user_mentions  \\\n",
            "0                  NaN                    None       []    [CaesarsSports]   \n",
            "1                  NaN                    None       []           [Openly]   \n",
            "2                  NaN                    None       []    [TheSkyBlueHub]   \n",
            "3                  NaN                    None       []  [kooky__official]   \n",
            "4         1.381301e+18                 iTBSD91       []      [iGOLDWING94]   \n",
            "\n",
            "  place                                              polls  is_extended_tweet  \\\n",
            "0        [[{'position': 1, 'text': 'PHI vs WSH'}, {'pos...              False   \n",
            "1        [[{'position': 1, 'text': 'Yes'}, {'position':...              False   \n",
            "2        [[{'position': 1, 'text': 'Danny Fox'}, {'posi...              False   \n",
            "3        [[{'position': 1, 'text': 'THEBOYZ 뉴'}, {'posi...              False   \n",
            "4        [[{'position': 1, 'text': 'me cae bien'}, {'po...              False   \n",
            "\n",
            "  extended_tweet_full_text  \n",
            "0                           \n",
            "1                           \n",
            "2                           \n",
            "3                           \n",
            "4                           \n"
          ]
        }
      ],
      "source": [
        "df = pd.DataFrame(data)\n",
        "print(df.head())"
      ]
    },
    {
      "cell_type": "code",
      "execution_count": 7,
      "metadata": {
        "id": "2zrt4SyxbvZI"
      },
      "outputs": [],
      "source": [
        "df['cleaned_text'] = df['text'].apply(lambda x: re.sub(r'http\\S+', '', x))\n",
        "\n",
        "# Removing Twitter handles (@user)\n",
        "df['cleaned_text'] = df['cleaned_text'].apply(lambda x: re.sub(r'@\\S+', '', x))\n",
        "\n",
        "# Removing hashtags (#hashtag)\n",
        "df['cleaned_text'] = df['cleaned_text'].apply(lambda x: re.sub(r'#\\S+', '', x))\n",
        "\n",
        "# Removing special characters, numbers, punctuations (except for spaces)\n",
        "df['cleaned_text'] = df['cleaned_text'].apply(lambda x: re.sub(r'[^\\w\\s]', '', x))\n",
        "\n",
        "# Optional: Convert text to lowercase\n",
        "df['cleaned_text'] = df['cleaned_text'].str.lower()"
      ]
    },
    {
      "cell_type": "code",
      "execution_count": 8,
      "metadata": {
        "id": "SRDtpfkCcclu"
      },
      "outputs": [],
      "source": [
        "df.fillna(method='ffill', inplace=True)"
      ]
    },
    {
      "cell_type": "code",
      "execution_count": 9,
      "metadata": {
        "id": "fJkhFt6WceHJ"
      },
      "outputs": [],
      "source": [
        "df['tweet_length'] = df['text'].apply(len)"
      ]
    },
    {
      "cell_type": "code",
      "execution_count": 23,
      "metadata": {
        "colab": {
          "base_uri": "https://localhost:8080/"
        },
        "id": "kw8uP5JVch1P",
        "outputId": "7a64d141-3c4c-4174-83fc-b8f4945316a4"
      },
      "outputs": [],
      "source": [
        "df = pd.DataFrame(data)\n",
        "df = df[['text', 'polls']]  # Keep only the columns: \"text\" and \"polls\"\n",
        "df = df.sample(n=4000, random_state=1)  # Shuffle and reduce the dataset to a 4000 rows\n",
        "df.to_csv('reduced_dataset.csv', index=False)  # Save the reduced dataset to a csv file\n"
      ]
    },
    {
      "cell_type": "code",
      "execution_count": 14,
      "metadata": {},
      "outputs": [
        {
          "name": "stdout",
          "output_type": "stream",
          "text": [
            "[[{'position': 1, 'text': 'Sim'}, {'position': 2, 'text': 'Claro'}, {'position': 3, 'text': 'Óbvio'}, {'position': 4, 'text': 'Demorou'}]]\n"
          ]
        }
      ],
      "source": [
        "print(df[\"polls\"].iloc[10])\n"
      ]
    },
    {
      "cell_type": "code",
      "execution_count": null,
      "metadata": {},
      "outputs": [],
      "source": [
        "# import pandas as pd\n",
        "\n",
        "# # Initialize an empty DataFrame\n",
        "# df = pd.DataFrame(columns=[\"question\", \"Mistral_Output\"])\n",
        "\n",
        "# # Iterate over all questions\n",
        "# for question in dataset_test['history']:\n",
        "#     model_input = tokenizer2(question, return_tensors=\"pt\").to(\"cuda\")\n",
        "\n",
        "#     ft_model.eval()\n",
        "#     with torch.no_grad():\n",
        "#         output = eval_tokenizer.decode(ft_model.generate(**model_input, max_new_tokens=500)[0], skip_special_tokens=True)\n",
        "\n",
        "#     # Print the output\n",
        "#     print(f\"Question: {question}\\nOutput: {output}\\n\")\n",
        "\n",
        "#     # Append the question and its output to the DataFrame\n",
        "#     df = df.append({\"question\": question, \"Mistral_Output\": output}, ignore_index=True)\n",
        "\n",
        "#     # Save the DataFrame to a CSV file\n",
        "#     df.to_csv(\"test_eval.csv\", index=False)\n"
      ]
    },
    {
      "cell_type": "code",
      "execution_count": null,
      "metadata": {},
      "outputs": [],
      "source": []
    }
  ],
  "metadata": {
    "colab": {
      "provenance": []
    },
    "kernelspec": {
      "display_name": "Python 3",
      "name": "python3"
    },
    "language_info": {
      "codemirror_mode": {
        "name": "ipython",
        "version": 3
      },
      "file_extension": ".py",
      "mimetype": "text/x-python",
      "name": "python",
      "nbconvert_exporter": "python",
      "pygments_lexer": "ipython3",
      "version": "3.10.10"
    }
  },
  "nbformat": 4,
  "nbformat_minor": 0
}
